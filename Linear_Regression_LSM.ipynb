{
  "nbformat": 4,
  "nbformat_minor": 0,
  "metadata": {
    "colab": {
      "name": "Linear_Regression_LSM.ipynb",
      "provenance": []
    },
    "kernelspec": {
      "name": "python3",
      "display_name": "Python 3"
    },
    "language_info": {
      "name": "python"
    }
  },
  "cells": [
    {
      "cell_type": "code",
      "metadata": {
        "id": "M9-jZvx-pSb0"
      },
      "source": [
        "import numpy as np\n",
        "import pandas as pd\n",
        "import matplotlib.pyplot as plt\n"
      ],
      "execution_count": 3,
      "outputs": []
    },
    {
      "cell_type": "code",
      "metadata": {
        "id": "h0SjwWJ7p06N"
      },
      "source": [
        "df = pd.read_csv('headbrain.csv')\n"
      ],
      "execution_count": 5,
      "outputs": []
    },
    {
      "cell_type": "code",
      "metadata": {
        "colab": {
          "base_uri": "https://localhost:8080/",
          "height": 204
        },
        "id": "elzvaklFp8_-",
        "outputId": "eca11c9b-5330-42e5-fa3c-5117f3651e9b"
      },
      "source": [
        "df.head()"
      ],
      "execution_count": 6,
      "outputs": [
        {
          "output_type": "execute_result",
          "data": {
            "text/html": [
              "<div>\n",
              "<style scoped>\n",
              "    .dataframe tbody tr th:only-of-type {\n",
              "        vertical-align: middle;\n",
              "    }\n",
              "\n",
              "    .dataframe tbody tr th {\n",
              "        vertical-align: top;\n",
              "    }\n",
              "\n",
              "    .dataframe thead th {\n",
              "        text-align: right;\n",
              "    }\n",
              "</style>\n",
              "<table border=\"1\" class=\"dataframe\">\n",
              "  <thead>\n",
              "    <tr style=\"text-align: right;\">\n",
              "      <th></th>\n",
              "      <th>Gender</th>\n",
              "      <th>Age Range</th>\n",
              "      <th>Head Size(cm^3)</th>\n",
              "      <th>Brain Weight(grams)</th>\n",
              "    </tr>\n",
              "  </thead>\n",
              "  <tbody>\n",
              "    <tr>\n",
              "      <th>0</th>\n",
              "      <td>1</td>\n",
              "      <td>1</td>\n",
              "      <td>4512</td>\n",
              "      <td>1530</td>\n",
              "    </tr>\n",
              "    <tr>\n",
              "      <th>1</th>\n",
              "      <td>1</td>\n",
              "      <td>1</td>\n",
              "      <td>3738</td>\n",
              "      <td>1297</td>\n",
              "    </tr>\n",
              "    <tr>\n",
              "      <th>2</th>\n",
              "      <td>1</td>\n",
              "      <td>1</td>\n",
              "      <td>4261</td>\n",
              "      <td>1335</td>\n",
              "    </tr>\n",
              "    <tr>\n",
              "      <th>3</th>\n",
              "      <td>1</td>\n",
              "      <td>1</td>\n",
              "      <td>3777</td>\n",
              "      <td>1282</td>\n",
              "    </tr>\n",
              "    <tr>\n",
              "      <th>4</th>\n",
              "      <td>1</td>\n",
              "      <td>1</td>\n",
              "      <td>4177</td>\n",
              "      <td>1590</td>\n",
              "    </tr>\n",
              "  </tbody>\n",
              "</table>\n",
              "</div>"
            ],
            "text/plain": [
              "   Gender  Age Range  Head Size(cm^3)  Brain Weight(grams)\n",
              "0       1          1             4512                 1530\n",
              "1       1          1             3738                 1297\n",
              "2       1          1             4261                 1335\n",
              "3       1          1             3777                 1282\n",
              "4       1          1             4177                 1590"
            ]
          },
          "metadata": {
            "tags": []
          },
          "execution_count": 6
        }
      ]
    },
    {
      "cell_type": "code",
      "metadata": {
        "id": "bNMnZQ15qOGL"
      },
      "source": [
        "x = df['Head Size(cm^3)'].values\n",
        "y = df['Brain Weight(grams)'].values"
      ],
      "execution_count": 7,
      "outputs": []
    },
    {
      "cell_type": "code",
      "metadata": {
        "colab": {
          "base_uri": "https://localhost:8080/",
          "height": 279
        },
        "id": "yaCCV7pbqieG",
        "outputId": "dc8d1996-05b7-485e-bbaa-3c07c4333746"
      },
      "source": [
        "plt.scatter(x, y, c='green', label='Data Points')\n",
        "plt.xlabel('Head Size(cm^3)')\n",
        "plt.ylabel('Brain Weight(grams)')\n",
        "plt.legend()\n",
        "plt.show()"
      ],
      "execution_count": 9,
      "outputs": [
        {
          "output_type": "display_data",
          "data": {
            "image/png": "[encoded data removed]",
            "text/plain": [
              "<Figure size 432x288 with 1 Axes>"
            ]
          },
          "metadata": {
            "tags": [],
            "needs_background": "light"
          }
        }
      ]
    },
    {
      "cell_type": "code",
      "metadata": {
        "colab": {
          "base_uri": "https://localhost:8080/"
        },
        "id": "_mt04AdSsoq6",
        "outputId": "7bd33ad6-d86c-4721-b7a1-83fe528e2bbe"
      },
      "source": [
        "mean_x =np.mean(x)\n",
        "mean_y = np.mean(y)\n",
        "\n",
        "n= len(x)\n",
        "numerator=0\n",
        "denominator=0\n",
        "\n",
        "for i in range(n):\n",
        "  numerator+= (x[i]-mean_x)*(y[i]-mean_y)\n",
        "  denominator+= (x[i]-mean_x)**2\n",
        "b1 = numerator/denominator\n",
        "b0 = mean_y - (b1*mean_x)\n",
        "\n",
        "print(\"value of m and c in Y=mX+c:\\n\",b1,b0)\n"
      ],
      "execution_count": 12,
      "outputs": [
        {
          "output_type": "stream",
          "text": [
            "value of m and c in Y=mX+c:\n",
            " 0.26342933948939945 325.57342104944223\n"
          ],
          "name": "stdout"
        }
      ]
    },
    {
      "cell_type": "code",
      "metadata": {
        "colab": {
          "base_uri": "https://localhost:8080/",
          "height": 334
        },
        "id": "uZP8gNN1tmRf",
        "outputId": "ec04f252-6c0a-4600-c40b-b3d378a9a6c3"
      },
      "source": [
        "plt.rcParams['figure.figsize'] = (10.0,5.0)\n",
        "\n",
        "pred_y = b1*x+b0\n",
        "plt.plot(x,pred_y, color='blue', label='Regression Line')\n",
        "plt.scatter(x, y, color='green', label='Scatter Data')\n",
        "plt.xlabel('Head Size(cm^3)')\n",
        "plt.ylabel('Brain Weight(grams)')\n",
        "plt.legend()\n",
        "plt.show()"
      ],
      "execution_count": 13,
      "outputs": [
        {
          "output_type": "display_data",
          "data": {
            "image/png": "[encoded data removed]",
            "text/plain": [
              "<Figure size 720x360 with 1 Axes>"
            ]
          },
          "metadata": {
            "tags": [],
            "needs_background": "light"
          }
        }
      ]
    },
    {
      "cell_type": "code",
      "metadata": {
        "colab": {
          "base_uri": "https://localhost:8080/"
        },
        "id": "-iqsMKvtu8cD",
        "outputId": "650b8ac6-2c63-46f3-c6f7-7a69152a294f"
      },
      "source": [
        "#r2 score\n",
        "\n",
        "ss_tot = 0\n",
        "ss_res = 0\n",
        "for i in range(n):\n",
        "  y_pred = b1 * x[i] + b0\n",
        "  ss_tot += (y[i]-mean_y)**2\n",
        "  ss_res += (y[i]-y_pred)**2\n",
        "r2 = 1-(ss_res/ss_tot)\n",
        "print(\"r2 score: \",r2)\n"
      ],
      "execution_count": 14,
      "outputs": [
        {
          "output_type": "stream",
          "text": [
            "r2 score:  0.6393117199570003\n"
          ],
          "name": "stdout"
        }
      ]
    }
  ]
}